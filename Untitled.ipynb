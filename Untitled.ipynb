{
 "cells": [
  {
   "cell_type": "code",
   "execution_count": null,
   "id": "d1eb73f2-1c10-46a8-927e-f9ee602fae96",
   "metadata": {},
   "outputs": [],
   "source": [
    "import traceback\n",
    "from ib_insync import IB, Stock, Option, OptionChain\n",
    "from ib_insync import *\n",
    "import pandas as pd\n",
    "util.startLoop()\n",
    "\n",
    "ib = IB()\n",
    "ib.connect('127.0.0.1', 7497, clientId=1)  # Adjust port and clientId as needed\n"
   ]
  },
  {
   "cell_type": "code",
   "execution_count": null,
   "id": "bdb7353c-2846-4140-8947-3df6d5e0a9b6",
   "metadata": {},
   "outputs": [],
   "source": [
    "stock = Stock(\"AAPL\", 'SMART', 'USD')\n",
    "\n",
    "# Request market data for the stock to ensure it's valid\n",
    "ib.qualifyContracts(stock)\n",
    "\n",
    "# Get option chains for the stock\n",
    "chains = ib.reqSecDefOptParams(stock.symbol, '', stock.secType, stock.conId)\n",
    "if not chains:\n",
    "    print(f\"No options chains available for {ticker_symbol}.\")\n",
    "\n",
    "util.df(chains)"
   ]
  },
  {
   "cell_type": "code",
   "execution_count": null,
   "id": "854c66df-f8b3-4423-895c-4eaacc7079da",
   "metadata": {},
   "outputs": [],
   "source": [
    "chain = chains[0]\n",
    "expirations = chain.expirations\n",
    "strikes = chain.strikes\n",
    "\n",
    "contracts = [Option(stock.symbol, expiration, strike, 'P', 'SMART')\n",
    "        for expiration in expirations\n",
    "        for strike in strikes]\n",
    "\n",
    "print(contracts)\n",
    "\n",
    "contracts = ib.qualifyContracts(*contracts)\n",
    "print(len(contracts))"
   ]
  },
  {
   "cell_type": "code",
   "execution_count": null,
   "id": "1df51447-e730-46f8-a035-044772b61ba7",
   "metadata": {},
   "outputs": [],
   "source": []
  },
  {
   "cell_type": "code",
   "execution_count": null,
   "id": "55bd4de3-40d6-444f-bd58-a48031fff0f5",
   "metadata": {},
   "outputs": [],
   "source": []
  },
  {
   "cell_type": "code",
   "execution_count": null,
   "id": "716cef7d-5613-49c8-ab68-c23389462a68",
   "metadata": {},
   "outputs": [],
   "source": []
  }
 ],
 "metadata": {
  "kernelspec": {
   "display_name": "Python 3 (ipykernel)",
   "language": "python",
   "name": "python3"
  },
  "language_info": {
   "codemirror_mode": {
    "name": "ipython",
    "version": 3
   },
   "file_extension": ".py",
   "mimetype": "text/x-python",
   "name": "python",
   "nbconvert_exporter": "python",
   "pygments_lexer": "ipython3",
   "version": "3.13.0"
  }
 },
 "nbformat": 4,
 "nbformat_minor": 5
}
